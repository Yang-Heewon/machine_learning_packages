{
 "cells": [
  {
   "cell_type": "markdown",
   "id": "mobile-johns",
   "metadata": {},
   "source": [
    "# Load Packages"
   ]
  },
  {
   "cell_type": "code",
   "execution_count": 98,
   "id": "cosmetic-bolivia",
   "metadata": {},
   "outputs": [],
   "source": [
    "import numpy as np\n",
    "from matplotlib import pyplot as plt\n",
    "%matplotlib inline"
   ]
  },
  {
   "cell_type": "markdown",
   "id": "immediate-briefs",
   "metadata": {},
   "source": [
    "# Load Data Points (Do not modify the following block)"
   ]
  },
  {
   "cell_type": "code",
   "execution_count": 99,
   "id": "surgical-background",
   "metadata": {},
   "outputs": [
    {
     "name": "stdout",
     "output_type": "stream",
     "text": [
      "=================================\n",
      "We have 15 number of data\n",
      "=================================\n",
      "Coefficients of the original polynomial\n",
      "w0:-0.467  w1:-0.005  w2:0.281  w3:-0.054  \n",
      "=================================\n"
     ]
    },
    {
     "data": {
      "image/png": "[encoded data removed]",
      "text/plain": [
       "<Figure size 432x288 with 1 Axes>"
      ]
     },
     "metadata": {
      "needs_background": "light"
     },
     "output_type": "display_data"
    }
   ],
   "source": [
    "with open('training_data.npz', 'rb') as f:\n",
    "    data = np.load(f)\n",
    "\n",
    "    x_list = data['x_list']\n",
    "    y_list = data['y_list']\n",
    "\n",
    "    x_data = data['x_data']\n",
    "    y_data = data['y_data']\n",
    "    n_data = len(x_data)\n",
    "    \n",
    "    w = data['w']\n",
    "    original_degree = data['order']\n",
    "    # Print information of original function.\n",
    "print(\"=================================\")\n",
    "print(\"We have\", n_data, \"number of data\")\n",
    "\n",
    "print(\"=================================\")\n",
    "weight_info_string = ''\n",
    "for d in range(original_degree):\n",
    "    weight_info_string += 'w'+str(d)+':'+str(round(w[d],ndigits=3))+'  '\n",
    "print(\"Coefficients of the original polynomial\")\n",
    "print(weight_info_string)\n",
    "print(\"=================================\")\n",
    "    \n",
    "plt.plot(x_list, y_list, 'b:', linewidth=2, label=\"Original Function\")\n",
    "plt.scatter(x_data, y_data, s=50, c='r', label=\"Data Points\")\n",
    "plt.xlim([np.min(x_list),np.max(x_list)])\n",
    "plt.ylim([np.min(y_data),np.max(y_data)])\n",
    "plt.legend(prop={'size': 12})\n",
    "plt.title(\"Data Plot\")\n",
    "plt.show()"
   ]
  },
  {
   "cell_type": "markdown",
   "id": "isolated-airfare",
   "metadata": {},
   "source": [
    "# Polynomial Regression (Programming Assignment)\n",
    "### Variable Explanation (Do not change variable names)\n",
    "- 'w' is true coefficients of the original polynomial function\n",
    "- 'original_degree' is the order of the original polynomial function\n",
    "- 'x_list' is a list of the points at $x$-axis\n",
    "- 'y_list' is a list of function value $f(x)$ corresponding to 'x_list'. In other words, y_list = $f($x_list$)$\n",
    "- 'x_data' is an input data\n",
    "- 'y_data' is an output data\n",
    "- 'n_data' is the number of data points\n",
    "\n",
    "### Our goal is to estimate 'w' from data points, 'x_data' and 'y_data'. Answer the following problems."
   ]
  },
  {
   "cell_type": "markdown",
   "id": "growing-leather",
   "metadata": {},
   "source": [
    "### 1. Compute a Vandermonde matrix when the degree of polynomial is $4$ (30pt)\n",
    "- The variable 'degree' is the order of polynomial. In this problem, we set degree=$4$\n",
    "- Use the variable 'A' for the Vandermonde matrix. Now, 'A' is initialized as a zero matrix whose elements are all zero. Fill in the element of the Vandermonde matrix by using power operator (\\*\\*), for loop, and np.concatenation."
   ]
  },
  {
   "cell_type": "code",
   "execution_count": 108,
   "id": "outstanding-oriental",
   "metadata": {},
   "outputs": [],
   "source": [
    "degree = 4\n",
    "A = np.empty((0,5))\n",
    "\n",
    "\n",
    "for i in range(len(x_list)):\n",
    "    b = np.empty((0,1))\n",
    "    \n",
    "    for s in range(degree+1):\n",
    "        a = np.array([x_list[i]**s])\n",
    "        a = a.reshape(1,1)\n",
    "        b = np.concatenate([b,a])\n",
    "       \n",
    "    \n",
    "    b= b.reshape(1,5)\n",
    "    A = np.concatenate([A,b],axis = 0)\n",
    "    \n",
    "\n",
    "\n",
    "\n",
    "    \n",
    "\n",
    "\n",
    "\n",
    "   "
   ]
  },
  {
   "cell_type": "markdown",
   "id": "mounted-fisher",
   "metadata": {},
   "source": [
    "### Print results (do not modify the following block)"
   ]
  },
  {
   "cell_type": "code",
   "execution_count": 102,
   "id": "mediterranean-brake",
   "metadata": {},
   "outputs": [
    {
     "name": "stdout",
     "output_type": "stream",
     "text": [
      "[[ 1.00000000e+00 -2.00000000e+00  4.00000000e+00 -8.00000000e+00\n",
      "   1.60000000e+01]\n",
      " [ 1.00000000e+00 -1.95959596e+00  3.84001632e+00 -7.52488047e+00\n",
      "   1.47457254e+01]\n",
      " [ 1.00000000e+00 -1.91919192e+00  3.68329762e+00 -7.06895503e+00\n",
      "   1.35666814e+01]\n",
      " [ 1.00000000e+00 -1.87878788e+00  3.52984389e+00 -6.63182792e+00\n",
      "   1.24597979e+01]\n",
      " [ 1.00000000e+00 -1.83838384e+00  3.37965514e+00 -6.21310338e+00\n",
      "   1.14220688e+01]\n",
      " [ 1.00000000e+00 -1.79797980e+00  3.23273135e+00 -5.81238567e+00\n",
      "   1.04505520e+01]\n",
      " [ 1.00000000e+00 -1.75757576e+00  3.08907254e+00 -5.42927902e+00\n",
      "   9.54236918e+00]\n",
      " [ 1.00000000e+00 -1.71717172e+00  2.94867871e+00 -5.06338768e+00\n",
      "   8.69470611e+00]\n",
      " [ 1.00000000e+00 -1.67676768e+00  2.81154984e+00 -4.71431590e+00\n",
      "   7.90481251e+00]\n",
      " [ 1.00000000e+00 -1.63636364e+00  2.67768595e+00 -4.38166792e+00\n",
      "   7.17000205e+00]\n",
      " [ 1.00000000e+00 -1.59595960e+00  2.54708703e+00 -4.06504799e+00\n",
      "   6.48765235e+00]\n",
      " [ 1.00000000e+00 -1.55555556e+00  2.41975309e+00 -3.76406036e+00\n",
      "   5.85520500e+00]\n",
      " [ 1.00000000e+00 -1.51515152e+00  2.29568411e+00 -3.47830926e+00\n",
      "   5.27016555e+00]\n",
      " [ 1.00000000e+00 -1.47474747e+00  2.17488011e+00 -3.20739896e+00\n",
      "   4.73010351e+00]\n",
      " [ 1.00000000e+00 -1.43434343e+00  2.05734109e+00 -2.95093368e+00\n",
      "   4.23265235e+00]\n",
      " [ 1.00000000e+00 -1.39393939e+00  1.94306703e+00 -2.70851768e+00\n",
      "   3.77550950e+00]\n",
      " [ 1.00000000e+00 -1.35353535e+00  1.83205795e+00 -2.47975521e+00\n",
      "   3.35643634e+00]\n",
      " [ 1.00000000e+00 -1.31313131e+00  1.72431385e+00 -2.26425050e+00\n",
      "   2.97325824e+00]\n",
      " [ 1.00000000e+00 -1.27272727e+00  1.61983471e+00 -2.06160781e+00\n",
      "   2.62386449e+00]\n",
      " [ 1.00000000e+00 -1.23232323e+00  1.51862055e+00 -1.87143138e+00\n",
      "   2.30620837e+00]\n",
      " [ 1.00000000e+00 -1.19191919e+00  1.42067136e+00 -1.69332546e+00\n",
      "   2.01830711e+00]\n",
      " [ 1.00000000e+00 -1.15151515e+00  1.32598714e+00 -1.52689429e+00\n",
      "   1.75824191e+00]\n",
      " [ 1.00000000e+00 -1.11111111e+00  1.23456790e+00 -1.37174211e+00\n",
      "   1.52415790e+00]\n",
      " [ 1.00000000e+00 -1.07070707e+00  1.14641363e+00 -1.22747318e+00\n",
      "   1.31426421e+00]\n",
      " [ 1.00000000e+00 -1.03030303e+00  1.06152433e+00 -1.09369174e+00\n",
      "   1.12683391e+00]\n",
      " [ 1.00000000e+00 -9.89898990e-01  9.79900010e-01 -9.70002030e-01\n",
      "   9.60204030e-01]\n",
      " [ 1.00000000e+00 -9.49494949e-01  9.01540659e-01 -8.56008303e-01\n",
      "   8.12775560e-01]\n",
      " [ 1.00000000e+00 -9.09090909e-01  8.26446281e-01 -7.51314801e-01\n",
      "   6.83013455e-01]\n",
      " [ 1.00000000e+00 -8.68686869e-01  7.54616876e-01 -6.55525771e-01\n",
      "   5.69446629e-01]\n",
      " [ 1.00000000e+00 -8.28282828e-01  6.86052444e-01 -5.68245458e-01\n",
      "   4.70667955e-01]\n",
      " [ 1.00000000e+00 -7.87878788e-01  6.20752984e-01 -4.89078109e-01\n",
      "   3.85334268e-01]\n",
      " [ 1.00000000e+00 -7.47474747e-01  5.58718498e-01 -4.17627968e-01\n",
      "   3.12166360e-01]\n",
      " [ 1.00000000e+00 -7.07070707e-01  4.99948985e-01 -3.53499282e-01\n",
      "   2.49948987e-01]\n",
      " [ 1.00000000e+00 -6.66666667e-01  4.44444444e-01 -2.96296296e-01\n",
      "   1.97530864e-01]\n",
      " [ 1.00000000e+00 -6.26262626e-01  3.92204877e-01 -2.45623256e-01\n",
      "   1.53824666e-01]\n",
      " [ 1.00000000e+00 -5.85858586e-01  3.43230283e-01 -2.01084408e-01\n",
      "   1.17807027e-01]\n",
      " [ 1.00000000e+00 -5.45454545e-01  2.97520661e-01 -1.62283997e-01\n",
      "   8.85185438e-02]\n",
      " [ 1.00000000e+00 -5.05050505e-01  2.55076013e-01 -1.28826269e-01\n",
      "   6.50637722e-02]\n",
      " [ 1.00000000e+00 -4.64646465e-01  2.15896337e-01 -1.00315470e-01\n",
      "   4.66112284e-02]\n",
      " [ 1.00000000e+00 -4.24242424e-01  1.79981635e-01 -7.63558450e-02\n",
      "   3.23933888e-02]\n",
      " [ 1.00000000e+00 -3.83838384e-01  1.47331905e-01 -5.65516403e-02\n",
      "   2.17066902e-02]\n",
      " [ 1.00000000e+00 -3.43434343e-01  1.17947148e-01 -4.05071014e-02\n",
      "   1.39115298e-02]\n",
      " [ 1.00000000e+00 -3.03030303e-01  9.18273646e-02 -2.78264741e-02\n",
      "   8.43226488e-03]\n",
      " [ 1.00000000e+00 -2.62626263e-01  6.89725538e-02 -1.81140040e-02\n",
      "   4.75721318e-03]\n",
      " [ 1.00000000e+00 -2.22222222e-01  4.93827160e-02 -1.09739369e-02\n",
      "   2.43865264e-03]\n",
      " [ 1.00000000e+00 -1.81818182e-01  3.30578512e-02 -6.01051841e-03\n",
      "   1.09282153e-03]\n",
      " [ 1.00000000e+00 -1.41414141e-01  1.99979594e-02 -2.82799426e-03\n",
      "   3.99918380e-04]\n",
      " [ 1.00000000e+00 -1.01010101e-01  1.02030405e-02 -1.03061015e-03\n",
      "   1.04102036e-04]\n",
      " [ 1.00000000e+00 -6.06060606e-02  3.67309458e-03 -2.22611793e-04\n",
      "   1.34916238e-05]\n",
      " [ 1.00000000e+00 -2.02020202e-02  4.08121620e-04 -8.24488122e-06\n",
      "   1.66563257e-07]\n",
      " [ 1.00000000e+00  2.02020202e-02  4.08121620e-04  8.24488122e-06\n",
      "   1.66563257e-07]\n",
      " [ 1.00000000e+00  6.06060606e-02  3.67309458e-03  2.22611793e-04\n",
      "   1.34916238e-05]\n",
      " [ 1.00000000e+00  1.01010101e-01  1.02030405e-02  1.03061015e-03\n",
      "   1.04102036e-04]\n",
      " [ 1.00000000e+00  1.41414141e-01  1.99979594e-02  2.82799426e-03\n",
      "   3.99918380e-04]\n",
      " [ 1.00000000e+00  1.81818182e-01  3.30578512e-02  6.01051841e-03\n",
      "   1.09282153e-03]\n",
      " [ 1.00000000e+00  2.22222222e-01  4.93827160e-02  1.09739369e-02\n",
      "   2.43865264e-03]\n",
      " [ 1.00000000e+00  2.62626263e-01  6.89725538e-02  1.81140040e-02\n",
      "   4.75721318e-03]\n",
      " [ 1.00000000e+00  3.03030303e-01  9.18273646e-02  2.78264741e-02\n",
      "   8.43226488e-03]\n",
      " [ 1.00000000e+00  3.43434343e-01  1.17947148e-01  4.05071014e-02\n",
      "   1.39115298e-02]\n",
      " [ 1.00000000e+00  3.83838384e-01  1.47331905e-01  5.65516403e-02\n",
      "   2.17066902e-02]\n",
      " [ 1.00000000e+00  4.24242424e-01  1.79981635e-01  7.63558450e-02\n",
      "   3.23933888e-02]\n",
      " [ 1.00000000e+00  4.64646465e-01  2.15896337e-01  1.00315470e-01\n",
      "   4.66112284e-02]\n",
      " [ 1.00000000e+00  5.05050505e-01  2.55076013e-01  1.28826269e-01\n",
      "   6.50637722e-02]\n",
      " [ 1.00000000e+00  5.45454545e-01  2.97520661e-01  1.62283997e-01\n",
      "   8.85185438e-02]\n",
      " [ 1.00000000e+00  5.85858586e-01  3.43230283e-01  2.01084408e-01\n",
      "   1.17807027e-01]\n",
      " [ 1.00000000e+00  6.26262626e-01  3.92204877e-01  2.45623256e-01\n",
      "   1.53824666e-01]\n",
      " [ 1.00000000e+00  6.66666667e-01  4.44444444e-01  2.96296296e-01\n",
      "   1.97530864e-01]\n",
      " [ 1.00000000e+00  7.07070707e-01  4.99948985e-01  3.53499282e-01\n",
      "   2.49948987e-01]\n",
      " [ 1.00000000e+00  7.47474747e-01  5.58718498e-01  4.17627968e-01\n",
      "   3.12166360e-01]\n",
      " [ 1.00000000e+00  7.87878788e-01  6.20752984e-01  4.89078109e-01\n",
      "   3.85334268e-01]\n",
      " [ 1.00000000e+00  8.28282828e-01  6.86052444e-01  5.68245458e-01\n",
      "   4.70667955e-01]\n",
      " [ 1.00000000e+00  8.68686869e-01  7.54616876e-01  6.55525771e-01\n",
      "   5.69446629e-01]\n",
      " [ 1.00000000e+00  9.09090909e-01  8.26446281e-01  7.51314801e-01\n",
      "   6.83013455e-01]\n",
      " [ 1.00000000e+00  9.49494949e-01  9.01540659e-01  8.56008303e-01\n",
      "   8.12775560e-01]\n",
      " [ 1.00000000e+00  9.89898990e-01  9.79900010e-01  9.70002030e-01\n",
      "   9.60204030e-01]\n",
      " [ 1.00000000e+00  1.03030303e+00  1.06152433e+00  1.09369174e+00\n",
      "   1.12683391e+00]\n",
      " [ 1.00000000e+00  1.07070707e+00  1.14641363e+00  1.22747318e+00\n",
      "   1.31426421e+00]\n",
      " [ 1.00000000e+00  1.11111111e+00  1.23456790e+00  1.37174211e+00\n",
      "   1.52415790e+00]\n",
      " [ 1.00000000e+00  1.15151515e+00  1.32598714e+00  1.52689429e+00\n",
      "   1.75824191e+00]\n",
      " [ 1.00000000e+00  1.19191919e+00  1.42067136e+00  1.69332546e+00\n",
      "   2.01830711e+00]\n",
      " [ 1.00000000e+00  1.23232323e+00  1.51862055e+00  1.87143138e+00\n",
      "   2.30620837e+00]\n",
      " [ 1.00000000e+00  1.27272727e+00  1.61983471e+00  2.06160781e+00\n",
      "   2.62386449e+00]\n",
      " [ 1.00000000e+00  1.31313131e+00  1.72431385e+00  2.26425050e+00\n",
      "   2.97325824e+00]\n",
      " [ 1.00000000e+00  1.35353535e+00  1.83205795e+00  2.47975521e+00\n",
      "   3.35643634e+00]\n",
      " [ 1.00000000e+00  1.39393939e+00  1.94306703e+00  2.70851768e+00\n",
      "   3.77550950e+00]\n",
      " [ 1.00000000e+00  1.43434343e+00  2.05734109e+00  2.95093368e+00\n",
      "   4.23265235e+00]\n",
      " [ 1.00000000e+00  1.47474747e+00  2.17488011e+00  3.20739896e+00\n",
      "   4.73010351e+00]\n",
      " [ 1.00000000e+00  1.51515152e+00  2.29568411e+00  3.47830926e+00\n",
      "   5.27016555e+00]\n",
      " [ 1.00000000e+00  1.55555556e+00  2.41975309e+00  3.76406036e+00\n",
      "   5.85520500e+00]\n",
      " [ 1.00000000e+00  1.59595960e+00  2.54708703e+00  4.06504799e+00\n",
      "   6.48765235e+00]\n",
      " [ 1.00000000e+00  1.63636364e+00  2.67768595e+00  4.38166792e+00\n",
      "   7.17000205e+00]\n",
      " [ 1.00000000e+00  1.67676768e+00  2.81154984e+00  4.71431590e+00\n",
      "   7.90481251e+00]\n",
      " [ 1.00000000e+00  1.71717172e+00  2.94867871e+00  5.06338768e+00\n",
      "   8.69470611e+00]\n",
      " [ 1.00000000e+00  1.75757576e+00  3.08907254e+00  5.42927902e+00\n",
      "   9.54236918e+00]\n",
      " [ 1.00000000e+00  1.79797980e+00  3.23273135e+00  5.81238567e+00\n",
      "   1.04505520e+01]\n",
      " [ 1.00000000e+00  1.83838384e+00  3.37965514e+00  6.21310338e+00\n",
      "   1.14220688e+01]\n",
      " [ 1.00000000e+00  1.87878788e+00  3.52984389e+00  6.63182792e+00\n",
      "   1.24597979e+01]\n",
      " [ 1.00000000e+00  1.91919192e+00  3.68329762e+00  7.06895503e+00\n",
      "   1.35666814e+01]\n",
      " [ 1.00000000e+00  1.95959596e+00  3.84001632e+00  7.52488047e+00\n",
      "   1.47457254e+01]\n",
      " [ 1.00000000e+00  2.00000000e+00  4.00000000e+00  8.00000000e+00\n",
      "   1.60000000e+01]]\n"
     ]
    }
   ],
   "source": [
    "print(A)\n"
   ]
  },
  {
   "cell_type": "markdown",
   "id": "approximate-italic",
   "metadata": {},
   "source": [
    "### 2. Compute the coefficients of polynomial regression using a $4$ degree polynomial  (40pt)\n",
    "- Use the variable 'degree' and the Vandermonde matrix 'A' in Problem 1.\n",
    "- The variable 'w_est' is the coefficients of polynomial regression. Now, 'w_est' is initialized as a zero vector. Compute the 'w_est' from 'A' and 'y'\n",
    "- The variable 'y_est' is an estimated function value corresponding to the input points 'x_list'. Now, it is a zero list and fill the list by computing the estimated function values. In other words, y_est = $\\hat{f}($x_list$)$"
   ]
  },
  {
   "cell_type": "code",
   "execution_count": 109,
   "id": "finished-incentive",
   "metadata": {},
   "outputs": [],
   "source": [
    "A_PI = np.linalg.pinv(A)\n",
    "w_est = A_PI@y_list\n",
    "y_est = A @ w_est\n",
    "\n",
    "\n",
    "\n",
    "\n",
    "\n",
    "\n",
    "\n"
   ]
  },
  {
   "cell_type": "markdown",
   "id": "exterior-donor",
   "metadata": {},
   "source": [
    "### Print results (do not modify the following block)"
   ]
  },
  {
   "cell_type": "code",
   "execution_count": 110,
   "id": "innovative-truth",
   "metadata": {},
   "outputs": [
    {
     "data": {
      "image/png": "[encoded data removed]",
      "text/plain": [
       "<Figure size 432x288 with 1 Axes>"
      ]
     },
     "metadata": {
      "needs_background": "light"
     },
     "output_type": "display_data"
    }
   ],
   "source": [
    "plt.plot(x_list, y_list, 'b:', linewidth=2, label=\"Original Function\")\n",
    "plt.plot(x_list, y_est, 'm-', linewidth=2, label=\"Polynomial Regression (d={})\".format(degree))\n",
    "plt.scatter(x_data, y_data, s=50, c='r', label=\"Data Points\")\n",
    "plt.xlim([np.min(x_list),np.max(x_list)])\n",
    "plt.ylim([np.min(y_data),np.max(y_data)])\n",
    "plt.legend(prop={'size': 12})\n",
    "plt.title(\"Data Plot\")\n",
    "plt.show()"
   ]
  },
  {
   "cell_type": "markdown",
   "id": "fbf0b432",
   "metadata": {},
   "source": [
    "### 3. Compute the polynomial regression with $1$ degree polynomials (15pt)\n",
    "- Repeat Problem 1 and Problem 2 with degree $1$.\n",
    "- Use the following variables.\n",
    "> degree1, A1, w_est1, y_est1"
   ]
  },
  {
   "cell_type": "code",
   "execution_count": 111,
   "id": "australian-italy",
   "metadata": {},
   "outputs": [],
   "source": [
    "degree1 = 1\n",
    "A1 = np.empty((0,2))\n",
    "\n",
    "\n",
    "for i in range(len(x_list)):\n",
    "    b1 = np.empty((0,1))\n",
    "   \n",
    "    for s in range(degree1+1):\n",
    "        a1 = np.array([x_list[i]**s])\n",
    "        a1 = a.reshape(1,1)\n",
    "        b1 = np.concatenate([b1,a1])\n",
    "   \n",
    "    \n",
    "    \n",
    "    \n",
    "    b1 = b1.reshape(1,2)\n",
    "    A1 = np.concatenate([A1,b1],axis = 0)\n",
    "    \n",
    "    \n",
    "    \n",
    "A1_PI = np.linalg.pinv(A1)\n",
    "\n",
    "w_est1 = A1_PI@y_list\n",
    "y_est1 =A1 @ w_est1 \n",
    "\n",
    "\n",
    "    "
   ]
  },
  {
   "cell_type": "markdown",
   "id": "7f8988a5",
   "metadata": {},
   "source": [
    "### Print results (do not modify the following block)"
   ]
  },
  {
   "cell_type": "code",
   "execution_count": 112,
   "id": "adfbd2c5",
   "metadata": {},
   "outputs": [
    {
     "data": {
      "image/png": "[encoded data removed]",
      "text/plain": [
       "<Figure size 432x288 with 1 Axes>"
      ]
     },
     "metadata": {
      "needs_background": "light"
     },
     "output_type": "display_data"
    }
   ],
   "source": [
    "plt.plot(x_list, y_list, 'b:', linewidth=2, label=\"Original Function\")\n",
    "plt.plot(x_list, y_est1, 'g-', linewidth=2, label=\"Polynomial Regression (d={})\".format(degree1))\n",
    "plt.scatter(x_data, y_data, s=50, c='r', label=\"Data Points\")\n",
    "plt.xlim([np.min(x_list),np.max(x_list)])\n",
    "plt.ylim([np.min(y_data),np.max(y_data)])\n",
    "plt.legend(prop={'size': 12})\n",
    "plt.title(\"Data Plot\")\n",
    "plt.show()"
   ]
  },
  {
   "cell_type": "markdown",
   "id": "001e5867",
   "metadata": {},
   "source": [
    "### 4. Compute the polynomial regression with $10$ degree polynomials (15pt)\n",
    "- Repeat Problem 1 and Problem 2 with degree $10$.\n",
    "- Use the following variables.\n",
    "> degree2, A2, w_est2, y_est2"
   ]
  },
  {
   "cell_type": "code",
   "execution_count": 113,
   "id": "b309ca3e",
   "metadata": {},
   "outputs": [],
   "source": [
    "degree2 = 10\n",
    "\n",
    "A2 = np.empty((0,11))\n",
    "\n",
    "\n",
    "for i in range(len(x_list)):\n",
    "    b2 = np.empty((0,1))\n",
    "    for s in range(degree2+1):\n",
    "        a2 = np.array([x_list[i]**s])\n",
    "        a2 = a2.reshape(1,1)\n",
    "        b2= np.concatenate([b2,a2])\n",
    "       \n",
    "    \n",
    "    b2= b2.reshape(1,11)\n",
    "    A2 = np.concatenate([A2,b2],axis = 0)\n",
    "    \n",
    "    \n",
    "A2_PI = np.linalg.pinv(A2)\n",
    "\n",
    "w_est2 = A2_PI@y_list\n",
    "y_est2 =A2 @ w_est2 "
   ]
  },
  {
   "cell_type": "markdown",
   "id": "fd0e3cd8",
   "metadata": {},
   "source": [
    "### Print results (do not modify the following block)"
   ]
  },
  {
   "cell_type": "code",
   "execution_count": 114,
   "id": "dying-international",
   "metadata": {},
   "outputs": [
    {
     "data": {
      "image/png": "[encoded data removed]",
      "text/plain": [
       "<Figure size 432x288 with 1 Axes>"
      ]
     },
     "metadata": {
      "needs_background": "light"
     },
     "output_type": "display_data"
    }
   ],
   "source": [
    "plt.plot(x_list, y_list, 'b:', linewidth=2, label=\"Original Function\")\n",
    "plt.plot(x_list, y_est2, 'c-', linewidth=2, label=\"Polynomial Regression (d={})\".format(degree2))\n",
    "plt.scatter(x_data, y_data, s=50, c='r', label=\"Data Points\")\n",
    "plt.xlim([np.min(x_list),np.max(x_list)])\n",
    "plt.ylim([np.min(y_data),np.max(y_data)])\n",
    "plt.legend(prop={'size': 12})\n",
    "plt.title(\"Data Plot\")\n",
    "plt.show()"
   ]
  },
  {
   "cell_type": "markdown",
   "id": "aa783cd4",
   "metadata": {},
   "source": [
    "### 5. [Challenging Problem] Explain the effect of degree (20pt)\n",
    "- By solving the above problems, we can observe the behaviors of polynomial regression with different degrees (1, 4, 10)\n",
    "- Explain pros and cons of high degree polynomial\n",
    "- Explain pros and cons of low degree polynomial\n",
    "- What is this phenomenon called in machine learning?"
   ]
  },
  {
   "cell_type": "markdown",
   "id": "74dd8c48",
   "metadata": {},
   "source": [
    "### The following figure shows all regression results with different degrees."
   ]
  },
  {
   "cell_type": "code",
   "execution_count": 115,
   "id": "89ad3326",
   "metadata": {},
   "outputs": [
    {
     "data": {
      "image/png": "[encoded data removed]",
      "text/plain": [
       "<Figure size 432x288 with 1 Axes>"
      ]
     },
     "metadata": {
      "needs_background": "light"
     },
     "output_type": "display_data"
    }
   ],
   "source": [
    "plt.plot(x_list, y_list, 'b:', linewidth=2, label=\"Original Function\")\n",
    "plt.plot(x_list, y_est, 'm-', linewidth=2, label=\"Polynomial Regression (d={})\".format(4))\n",
    "plt.plot(x_list, y_est1, 'g-', linewidth=2, label=\"Polynomial Regression (d={})\".format(1))\n",
    "plt.plot(x_list, y_est2, 'c-', linewidth=2, label=\"Polynomial Regression (d={})\".format(10))\n",
    "plt.scatter(x_data, y_data, s=50, c='r', label=\"Data Points\")\n",
    "plt.xlim([np.min(x_list),np.max(x_list)])\n",
    "plt.ylim([np.min(y_data),np.max(y_data)])\n",
    "plt.legend(prop={'size': 12})\n",
    "plt.title(\"Data Plot\")\n",
    "plt.show()"
   ]
  },
  {
   "cell_type": "markdown",
   "id": "af37cd1e",
   "metadata": {},
   "source": [
    "If we have high degree for example the degree that is same as the data points we could get the curve that connect dots, but if we do machine learning in  new real data, there prediction accuracy are gettiong low. We call this overfitting . So we could deduce that the higher degrees are in high variance and low degree are in high basis. So It is important to find the degree that is not too low or high. "
   ]
  }
 ],
 "metadata": {
  "kernelspec": {
   "display_name": "Python 3 (ipykernel)",
   "language": "python",
   "name": "python3"
  },
  "language_info": {
   "codemirror_mode": {
    "name": "ipython",
    "version": 3
   },
   "file_extension": ".py",
   "mimetype": "text/x-python",
   "name": "python",
   "nbconvert_exporter": "python",
   "pygments_lexer": "ipython3",
   "version": "3.9.5"
  }
 },
 "nbformat": 4,
 "nbformat_minor": 5
}
